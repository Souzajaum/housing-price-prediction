{
 "cells": [
  {
   "cell_type": "code",
   "execution_count": 1,
   "metadata": {},
   "outputs": [],
   "source": [
    "import pandas as pd\n",
    "import numpy as np\n",
    "import matplotlib.pyplot as plt\n",
    "\n",
    "from sklearn.model_selection import train_test_split\n",
    "from sklearn.ensemble import RandomForestRegressor\n",
    "from sklearn.metrics import mean_squared_error, r2_score\n",
    "from random import randint\n",
    "from sklearn.model_selection import RandomizedSearchCV\n",
    "\n"
   ]
  },
  {
   "cell_type": "code",
   "execution_count": 2,
   "metadata": {},
   "outputs": [],
   "source": [
    "df = pd.read_csv('C:/Users/monte/OneDrive/Documentos/codigos/projeto-house-price-prediction/house-price-prediction/data/processed/housing_final.csv')\n",
    "\n",
    "\n",
    "# 1. Remover valores truncados da target\n",
    "q_max = df['median_house_value'].quantile(0.95)\n",
    "df = df[df['median_house_value'] <= q_max]\n",
    "\n",
    "# 2. Feature Engineering Geográfico\n",
    "from sklearn.cluster import KMeans\n",
    "coords = df[['longitude', 'latitude']].dropna()\n",
    "kmeans = KMeans(n_clusters=15, random_state=42).fit(coords)\n",
    "df['geo_cluster'] = kmeans.labels_\n",
    "\n",
    "# 3. Seleção de Features\n",
    "cols_to_drop = [\n",
    "    'median_income_squared', 'total_rooms', 'total_bedrooms',\n",
    "    'bedrooms_per_household', 'bedrooms_per_room', 'rooms_per_household'\n",
    "]\n",
    "df = df.drop(columns=cols_to_drop, errors='ignore')\n",
    "\n",
    "# 4. Log-Transform na Target para normalizar distribuição\n",
    "df['median_house_value'] = np.log1p(df['median_house_value'])\n"
   ]
  },
  {
   "cell_type": "code",
   "execution_count": 3,
   "metadata": {},
   "outputs": [],
   "source": [
    "# Separar variáveis\n",
    "X = df.drop('median_house_value', axis=1)\n",
    "y = df['median_house_value']\n",
    "\n",
    "# Dividir dados\n",
    "X_train, X_test, y_train, y_test = train_test_split(X, y, test_size=0.2, random_state=42)"
   ]
  },
  {
   "cell_type": "code",
   "execution_count": 6,
   "metadata": {},
   "outputs": [
    {
     "name": "stdout",
     "output_type": "stream",
     "text": [
      "Fitting 3 folds for each of 24 candidates, totalling 72 fits\n"
     ]
    }
   ],
   "source": [
    "param_dist = {\n",
    "    'max_depth': [None, 15, 30, 45],\n",
    "    'max_features': ['sqrt', 'log2', 0.8],\n",
    "    'bootstrap': [True, False]\n",
    "}\n",
    "\n",
    "rf = RandomForestRegressor(random_state=42)\n",
    "search = RandomizedSearchCV(\n",
    "    rf,\n",
    "    param_distributions=param_dist,\n",
    "    n_iter=30,\n",
    "    cv=3,\n",
    "    scoring='neg_mean_squared_error',\n",
    "    verbose=1,\n",
    "    n_jobs=-1\n",
    ")\n",
    "\n",
    "search.fit(X_train, y_train)\n",
    "best_model = search.best_estimator_"
   ]
  },
  {
   "cell_type": "code",
   "execution_count": 14,
   "metadata": {},
   "outputs": [
    {
     "name": "stdout",
     "output_type": "stream",
     "text": [
      "\n",
      "Melhores Parâmetros: {'max_features': 'sqrt', 'max_depth': 30, 'bootstrap': False}\n",
      "MSE Final: 1725168608.47\n",
      "R² Final: 0.82\n"
     ]
    }
   ],
   "source": [
    "# 6. Treinar modelo final\n",
    "best_model.fit(X_train, y_train)\n",
    "\n",
    "# Previsões e métricas\n",
    "y_pred = best_model.predict(X_test)\n",
    "y_pred = np.expm1(y_pred)  # Reverter log-transform\n",
    "y_test = np.expm1(y_test)  # Reverter log-transform\n",
    "\n",
    "mse = mean_squared_error(y_test, y_pred)\n",
    "r2 = r2_score(y_test, y_pred)\n",
    "\n",
    "print(f\"\\nMelhores Parâmetros: {search.best_params_}\")\n",
    "print(f\"MSE Final: {mse:.2f}\")\n",
    "print(f\"R² Final: {r2:.2f}\")"
   ]
  },
  {
   "cell_type": "code",
   "execution_count": null,
   "metadata": {},
   "outputs": [],
   "source": [
    "plt.figure(figsize=(8, 6))\n",
    "plt.scatter(y_test, y_pred, alpha=0.5)\n",
    "plt.xlabel(\"Valores Reais\")\n",
    "plt.ylabel(\"Valores Preditos\")\n",
    "plt.title(\"Comparação: Valores Reais vs Preditos\")\n",
    "plt.plot([y_test.min(), y_test.max()], [y_test.min(), y_test.max()], 'r--')\n",
    "plt.show()\n"
   ]
  }
 ],
 "metadata": {
  "kernelspec": {
   "display_name": "Python 3",
   "language": "python",
   "name": "python3"
  },
  "language_info": {
   "codemirror_mode": {
    "name": "ipython",
    "version": 3
   },
   "file_extension": ".py",
   "mimetype": "text/x-python",
   "name": "python",
   "nbconvert_exporter": "python",
   "pygments_lexer": "ipython3",
   "version": "3.13.2"
  }
 },
 "nbformat": 4,
 "nbformat_minor": 2
}
